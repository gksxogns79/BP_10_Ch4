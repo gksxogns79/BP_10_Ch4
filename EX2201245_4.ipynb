{
  "cells": [
    {
      "cell_type": "markdown",
      "metadata": {
        "id": "view-in-github",
        "colab_type": "text"
      },
      "source": [
        "<a href=\"https://colab.research.google.com/github/gksxogns79/BP_10_Ch4/blob/main/EX2201245_4.ipynb\" target=\"_parent\"><img src=\"https://colab.research.google.com/assets/colab-badge.svg\" alt=\"Open In Colab\"/></a>"
      ]
    },
    {
      "cell_type": "code",
      "source": [
        "print(\"나는\"+ str(12)+\"개의 사과를 먹었다.\")"
      ],
      "metadata": {
        "id": "NxeZzxyhkjsR",
        "outputId": "ebabd91f-2973-4b6f-9eca-1de6234df645",
        "colab": {
          "base_uri": "https://localhost:8080/"
        }
      },
      "execution_count": null,
      "outputs": [
        {
          "output_type": "stream",
          "name": "stdout",
          "text": [
            "나는12개의 사과를 먹었다.\n"
          ]
        }
      ]
    },
    {
      "cell_type": "code",
      "source": [
        "'applegrape'\n",
        "'appleappleapple'"
      ],
      "metadata": {
        "id": "JqNVc4wIlcAp",
        "outputId": "7aed92d4-add6-46ef-9e1b-0e0767ca7e48",
        "colab": {
          "base_uri": "https://localhost:8080/",
          "height": 35
        }
      },
      "execution_count": null,
      "outputs": [
        {
          "output_type": "execute_result",
          "data": {
            "text/plain": [
              "'appleappleapple'"
            ],
            "application/vnd.google.colaboratory.intrinsic+json": {
              "type": "string"
            }
          },
          "metadata": {},
          "execution_count": 5
        }
      ]
    },
    {
      "cell_type": "code",
      "source": [
        "x = input(\"문자열을 입력하시오:\")\n",
        "print(x[0:2] + x[-2:])"
      ],
      "metadata": {
        "id": "fywrnf-ClygR",
        "outputId": "3fbdf1c4-732f-4fd6-8770-40f8b5a93ee6",
        "colab": {
          "base_uri": "https://localhost:8080/"
        }
      },
      "execution_count": null,
      "outputs": [
        {
          "output_type": "stream",
          "name": "stdout",
          "text": [
            "문자열을 입력하시오:python\n",
            "pyon\n"
          ]
        }
      ]
    },
    {
      "cell_type": "code",
      "source": [
        "x = input(\"문자열을 입력하시오 : \")\n",
        "print(x + \"하는 중 \")"
      ],
      "metadata": {
        "id": "9ajrHZC-mWMh",
        "outputId": "dcdb3168-24a3-4f10-b69d-043861220c02",
        "colab": {
          "base_uri": "https://localhost:8080/"
        }
      },
      "execution_count": null,
      "outputs": [
        {
          "output_type": "stream",
          "name": "stdout",
          "text": [
            "문자열을 입력하시오 : 청소\n",
            "청소하는 중 \n"
          ]
        }
      ]
    },
    {
      "cell_type": "code",
      "source": [
        "x = input(\"기호를 입력하시오 :\")\n",
        "middle = input(\"중간에 삽입할 문자열을 입력하시오 :\")\n",
        "print(x[0]+ middle + x[1])\n"
      ],
      "metadata": {
        "id": "4zUF58nZmmRx",
        "outputId": "29d6ecd6-e0a7-40a8-ad63-44041dd3107a",
        "colab": {
          "base_uri": "https://localhost:8080/"
        }
      },
      "execution_count": null,
      "outputs": [
        {
          "output_type": "stream",
          "name": "stdout",
          "text": [
            "기호를 입력하시오 :[]\n",
            "중간에 삽입할 문자열을 입력하시오 :python\n",
            "[python]\n"
          ]
        }
      ]
    },
    {
      "cell_type": "code",
      "source": [
        "user = [1,2,3,4,]\n",
        "sum = user[0] + user[1] + user[2] + user[3]\n",
        "\n",
        "print(\"리스트 = \", user)\n",
        "print(\"리스트 숫자들의 합 =\", sum)"
      ],
      "metadata": {
        "id": "cNOHVwSInExw",
        "outputId": "0432bd43-b07b-4861-e89c-33c6ed484e02",
        "colab": {
          "base_uri": "https://localhost:8080/"
        }
      },
      "execution_count": null,
      "outputs": [
        {
          "output_type": "stream",
          "name": "stdout",
          "text": [
            "리스트 =  [1, 2, 3, 4]\n",
            "리스트 숫자들의 합 = 10\n"
          ]
        }
      ]
    },
    {
      "cell_type": "code",
      "source": [
        "import turtle\n",
        "t = turtle.Turtle()\n",
        "t.shape(\"turtle\")\n",
        "color = [ ]\n",
        "\n",
        "color1 = input(\"색상 #1을 입력하시오 :\")\n",
        "color.append(color1)\n",
        "color = input(\"색상 #2을 입력하시오 : \")\n",
        "color.append(color2)\n",
        "color = input(\"색상 #3을 입력하시오 :\")\n",
        "color.append(color3)\n",
        "\n",
        "t.fillcolor(color[2])\n",
        "t.begin_fill()\n",
        "t.circle(50)\n",
        "t.end_fill()\n",
        "t.penup()\n",
        "t.goto(100,0)\n",
        "t.pendown()\n",
        "\n",
        "t.fillcolor(color[1])\n",
        "t.begin_fill()\n",
        "t.circle(50)\n",
        "t.end_fill()\n",
        "t.penup()\n",
        "t.goto(200,0)\n",
        "t.pendown()\n",
        "\n",
        "t.fillcolor(color[0])\n",
        "t.begin_fill()\n",
        "t.circle(50)\n",
        "t.end_fill()"
      ],
      "metadata": {
        "id": "k4NNuO_Hng54"
      },
      "execution_count": null,
      "outputs": []
    },
    {
      "cell_type": "code",
      "source": [
        "import turtle\n",
        "t = turtle.Turtle\n",
        "t.shape(\"turtle\")\n",
        "\n",
        "x_list = []\n",
        "y_list = []\n",
        "\n",
        "x1 = int(input(\"x1 : \"))\n",
        "x_list.append(x1)\n",
        "y1 = int(input(\"y1 : \"))\n",
        "y_list.aooebd(y1)\n",
        "\n",
        "x2 = int(input(\"x2 :\"))\n",
        "x_list.append(x2)\n",
        "y2 = int(input(\"y2 :\"))\n",
        "y_list.append(y2)\n",
        "\n",
        "x3 = int(input(\"x3 :\"))\n",
        "x_list.append(x3)\n",
        "y3 = int(input(\"y3 :\"))\n",
        "y_list.append(y3)\n",
        "\n",
        "t.goto(x_list[0], y_list[0])\n",
        "t.goto(x_list[1], y_list[1])\n",
        "t.goto(x_list{2}, y_list[2])"
      ],
      "metadata": {
        "id": "TAPLTZEVqVFX"
      },
      "execution_count": null,
      "outputs": []
    }
  ],
  "metadata": {
    "colab": {
      "collapsed_sections": [],
      "name": "Colaboratory에 오신 것을 환영합니다",
      "toc_visible": true,
      "provenance": [],
      "include_colab_link": true
    },
    "kernelspec": {
      "display_name": "Python 3",
      "name": "python3"
    }
  },
  "nbformat": 4,
  "nbformat_minor": 0
}